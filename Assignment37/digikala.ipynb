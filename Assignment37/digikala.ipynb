{
 "cells": [
  {
   "cell_type": "code",
   "execution_count": 25,
   "metadata": {},
   "outputs": [],
   "source": [
    "import pandas as pd\n",
    "import matplotlib.pyplot as plt\n",
    "import numpy as np\n",
    "from bidi.algorithm import get_display\n",
    "from arabic_reshaper import reshape\n"
   ]
  },
  {
   "cell_type": "code",
   "execution_count": 26,
   "metadata": {},
   "outputs": [
    {
     "data": {
      "text/html": [
       "<div>\n",
       "<style scoped>\n",
       "    .dataframe tbody tr th:only-of-type {\n",
       "        vertical-align: middle;\n",
       "    }\n",
       "\n",
       "    .dataframe tbody tr th {\n",
       "        vertical-align: top;\n",
       "    }\n",
       "\n",
       "    .dataframe thead th {\n",
       "        text-align: right;\n",
       "    }\n",
       "</style>\n",
       "<table border=\"1\" class=\"dataframe\">\n",
       "  <thead>\n",
       "    <tr style=\"text-align: right;\">\n",
       "      <th></th>\n",
       "      <th>ID_Order</th>\n",
       "      <th>ID_Customer</th>\n",
       "      <th>ID_Item</th>\n",
       "      <th>DateTime_CartFinalize</th>\n",
       "      <th>Amount_Gross_Order</th>\n",
       "      <th>city_name_fa</th>\n",
       "      <th>Quantity_item</th>\n",
       "    </tr>\n",
       "  </thead>\n",
       "  <tbody>\n",
       "    <tr>\n",
       "      <th>0</th>\n",
       "      <td>2714054</td>\n",
       "      <td>469662</td>\n",
       "      <td>21386</td>\n",
       "      <td>2015-10-15 08:50:56.000</td>\n",
       "      <td>597982.0</td>\n",
       "      <td>محمود آباد</td>\n",
       "      <td>1.0</td>\n",
       "    </tr>\n",
       "    <tr>\n",
       "      <th>1</th>\n",
       "      <td>11104039</td>\n",
       "      <td>3063877</td>\n",
       "      <td>248497</td>\n",
       "      <td>2018-02-11 00:29:26.000</td>\n",
       "      <td>980000.0</td>\n",
       "      <td>خرمدره</td>\n",
       "      <td>1.0</td>\n",
       "    </tr>\n",
       "    <tr>\n",
       "      <th>2</th>\n",
       "      <td>4228130</td>\n",
       "      <td>3184893</td>\n",
       "      <td>50144</td>\n",
       "      <td>2016-06-14 00:30:08.000</td>\n",
       "      <td>229358.0</td>\n",
       "      <td>قرچک</td>\n",
       "      <td>1.0</td>\n",
       "    </tr>\n",
       "    <tr>\n",
       "      <th>3</th>\n",
       "      <td>22225624</td>\n",
       "      <td>6888562</td>\n",
       "      <td>70208</td>\n",
       "      <td>2018-09-03 14:37:19.000</td>\n",
       "      <td>16514.0</td>\n",
       "      <td>قم</td>\n",
       "      <td>1.0</td>\n",
       "    </tr>\n",
       "    <tr>\n",
       "      <th>4</th>\n",
       "      <td>4068771</td>\n",
       "      <td>2533490</td>\n",
       "      <td>67627</td>\n",
       "      <td>2016-05-21 11:51:02.000</td>\n",
       "      <td>133028.0</td>\n",
       "      <td>تهران</td>\n",
       "      <td>1.0</td>\n",
       "    </tr>\n",
       "  </tbody>\n",
       "</table>\n",
       "</div>"
      ],
      "text/plain": [
       "   ID_Order  ID_Customer  ID_Item    DateTime_CartFinalize  \\\n",
       "0   2714054       469662    21386  2015-10-15 08:50:56.000   \n",
       "1  11104039      3063877   248497  2018-02-11 00:29:26.000   \n",
       "2   4228130      3184893    50144  2016-06-14 00:30:08.000   \n",
       "3  22225624      6888562    70208  2018-09-03 14:37:19.000   \n",
       "4   4068771      2533490    67627  2016-05-21 11:51:02.000   \n",
       "\n",
       "   Amount_Gross_Order city_name_fa  Quantity_item  \n",
       "0            597982.0   محمود آباد            1.0  \n",
       "1            980000.0       خرمدره            1.0  \n",
       "2            229358.0         قرچک            1.0  \n",
       "3             16514.0           قم            1.0  \n",
       "4            133028.0        تهران            1.0  "
      ]
     },
     "execution_count": 26,
     "metadata": {},
     "output_type": "execute_result"
    }
   ],
   "source": [
    "data=pd.read_csv('digikala-orders.csv')\n",
    "data.head()"
   ]
  },
  {
   "cell_type": "code",
   "execution_count": 27,
   "metadata": {},
   "outputs": [
    {
     "data": {
      "text/html": [
       "<div>\n",
       "<style scoped>\n",
       "    .dataframe tbody tr th:only-of-type {\n",
       "        vertical-align: middle;\n",
       "    }\n",
       "\n",
       "    .dataframe tbody tr th {\n",
       "        vertical-align: top;\n",
       "    }\n",
       "\n",
       "    .dataframe thead th {\n",
       "        text-align: right;\n",
       "    }\n",
       "</style>\n",
       "<table border=\"1\" class=\"dataframe\">\n",
       "  <thead>\n",
       "    <tr style=\"text-align: right;\">\n",
       "      <th></th>\n",
       "      <th>ID_Order</th>\n",
       "      <th>ID_Customer</th>\n",
       "      <th>ID_Item</th>\n",
       "      <th>DateTime_CartFinalize</th>\n",
       "      <th>Amount_Gross_Order</th>\n",
       "      <th>city_name_fa</th>\n",
       "      <th>Quantity_item</th>\n",
       "      <th>Date</th>\n",
       "      <th>YearMonth</th>\n",
       "    </tr>\n",
       "  </thead>\n",
       "  <tbody>\n",
       "    <tr>\n",
       "      <th>0</th>\n",
       "      <td>2714054</td>\n",
       "      <td>469662</td>\n",
       "      <td>21386</td>\n",
       "      <td>2015-10-15 08:50:56.000</td>\n",
       "      <td>597982.0</td>\n",
       "      <td>محمود آباد</td>\n",
       "      <td>1.0</td>\n",
       "      <td>2015-10-15 08:50:56</td>\n",
       "      <td>201510</td>\n",
       "    </tr>\n",
       "    <tr>\n",
       "      <th>1</th>\n",
       "      <td>11104039</td>\n",
       "      <td>3063877</td>\n",
       "      <td>248497</td>\n",
       "      <td>2018-02-11 00:29:26.000</td>\n",
       "      <td>980000.0</td>\n",
       "      <td>خرمدره</td>\n",
       "      <td>1.0</td>\n",
       "      <td>2018-02-11 00:29:26</td>\n",
       "      <td>201802</td>\n",
       "    </tr>\n",
       "    <tr>\n",
       "      <th>2</th>\n",
       "      <td>4228130</td>\n",
       "      <td>3184893</td>\n",
       "      <td>50144</td>\n",
       "      <td>2016-06-14 00:30:08.000</td>\n",
       "      <td>229358.0</td>\n",
       "      <td>قرچک</td>\n",
       "      <td>1.0</td>\n",
       "      <td>2016-06-14 00:30:08</td>\n",
       "      <td>201606</td>\n",
       "    </tr>\n",
       "    <tr>\n",
       "      <th>3</th>\n",
       "      <td>22225624</td>\n",
       "      <td>6888562</td>\n",
       "      <td>70208</td>\n",
       "      <td>2018-09-03 14:37:19.000</td>\n",
       "      <td>16514.0</td>\n",
       "      <td>قم</td>\n",
       "      <td>1.0</td>\n",
       "      <td>2018-09-03 14:37:19</td>\n",
       "      <td>201809</td>\n",
       "    </tr>\n",
       "    <tr>\n",
       "      <th>4</th>\n",
       "      <td>4068771</td>\n",
       "      <td>2533490</td>\n",
       "      <td>67627</td>\n",
       "      <td>2016-05-21 11:51:02.000</td>\n",
       "      <td>133028.0</td>\n",
       "      <td>تهران</td>\n",
       "      <td>1.0</td>\n",
       "      <td>2016-05-21 11:51:02</td>\n",
       "      <td>201605</td>\n",
       "    </tr>\n",
       "  </tbody>\n",
       "</table>\n",
       "</div>"
      ],
      "text/plain": [
       "   ID_Order  ID_Customer  ID_Item    DateTime_CartFinalize  \\\n",
       "0   2714054       469662    21386  2015-10-15 08:50:56.000   \n",
       "1  11104039      3063877   248497  2018-02-11 00:29:26.000   \n",
       "2   4228130      3184893    50144  2016-06-14 00:30:08.000   \n",
       "3  22225624      6888562    70208  2018-09-03 14:37:19.000   \n",
       "4   4068771      2533490    67627  2016-05-21 11:51:02.000   \n",
       "\n",
       "   Amount_Gross_Order city_name_fa  Quantity_item                Date  \\\n",
       "0            597982.0   محمود آباد            1.0 2015-10-15 08:50:56   \n",
       "1            980000.0       خرمدره            1.0 2018-02-11 00:29:26   \n",
       "2            229358.0         قرچک            1.0 2016-06-14 00:30:08   \n",
       "3             16514.0           قم            1.0 2018-09-03 14:37:19   \n",
       "4            133028.0        تهران            1.0 2016-05-21 11:51:02   \n",
       "\n",
       "   YearMonth  \n",
       "0     201510  \n",
       "1     201802  \n",
       "2     201606  \n",
       "3     201809  \n",
       "4     201605  "
      ]
     },
     "execution_count": 27,
     "metadata": {},
     "output_type": "execute_result"
    }
   ],
   "source": [
    "data['Date']=pd.to_datetime(data['DateTime_CartFinalize'])\n",
    "data['YearMonth']=data['Date'].map(lambda date:100*date.year+date.month)\n",
    "data.head()"
   ]
  },
  {
   "cell_type": "code",
   "execution_count": 28,
   "metadata": {},
   "outputs": [
    {
     "data": {
      "text/html": [
       "<div>\n",
       "<style scoped>\n",
       "    .dataframe tbody tr th:only-of-type {\n",
       "        vertical-align: middle;\n",
       "    }\n",
       "\n",
       "    .dataframe tbody tr th {\n",
       "        vertical-align: top;\n",
       "    }\n",
       "\n",
       "    .dataframe thead th {\n",
       "        text-align: right;\n",
       "    }\n",
       "</style>\n",
       "<table border=\"1\" class=\"dataframe\">\n",
       "  <thead>\n",
       "    <tr style=\"text-align: right;\">\n",
       "      <th></th>\n",
       "      <th>YearMonth</th>\n",
       "      <th>Amount_Gross_Order</th>\n",
       "    </tr>\n",
       "  </thead>\n",
       "  <tbody>\n",
       "    <tr>\n",
       "      <th>0</th>\n",
       "      <td>201309</td>\n",
       "      <td>3.197792e+07</td>\n",
       "    </tr>\n",
       "    <tr>\n",
       "      <th>1</th>\n",
       "      <td>201310</td>\n",
       "      <td>4.030806e+08</td>\n",
       "    </tr>\n",
       "    <tr>\n",
       "      <th>2</th>\n",
       "      <td>201311</td>\n",
       "      <td>3.536350e+08</td>\n",
       "    </tr>\n",
       "    <tr>\n",
       "      <th>3</th>\n",
       "      <td>201312</td>\n",
       "      <td>4.244551e+08</td>\n",
       "    </tr>\n",
       "    <tr>\n",
       "      <th>4</th>\n",
       "      <td>201401</td>\n",
       "      <td>5.369787e+08</td>\n",
       "    </tr>\n",
       "    <tr>\n",
       "      <th>...</th>\n",
       "      <td>...</td>\n",
       "      <td>...</td>\n",
       "    </tr>\n",
       "    <tr>\n",
       "      <th>59</th>\n",
       "      <td>201808</td>\n",
       "      <td>6.513781e+09</td>\n",
       "    </tr>\n",
       "    <tr>\n",
       "      <th>60</th>\n",
       "      <td>201809</td>\n",
       "      <td>7.394628e+09</td>\n",
       "    </tr>\n",
       "    <tr>\n",
       "      <th>61</th>\n",
       "      <td>201810</td>\n",
       "      <td>6.187311e+09</td>\n",
       "    </tr>\n",
       "    <tr>\n",
       "      <th>62</th>\n",
       "      <td>201811</td>\n",
       "      <td>7.026060e+09</td>\n",
       "    </tr>\n",
       "    <tr>\n",
       "      <th>63</th>\n",
       "      <td>201812</td>\n",
       "      <td>3.114227e+09</td>\n",
       "    </tr>\n",
       "  </tbody>\n",
       "</table>\n",
       "<p>64 rows × 2 columns</p>\n",
       "</div>"
      ],
      "text/plain": [
       "    YearMonth  Amount_Gross_Order\n",
       "0      201309        3.197792e+07\n",
       "1      201310        4.030806e+08\n",
       "2      201311        3.536350e+08\n",
       "3      201312        4.244551e+08\n",
       "4      201401        5.369787e+08\n",
       "..        ...                 ...\n",
       "59     201808        6.513781e+09\n",
       "60     201809        7.394628e+09\n",
       "61     201810        6.187311e+09\n",
       "62     201811        7.026060e+09\n",
       "63     201812        3.114227e+09\n",
       "\n",
       "[64 rows x 2 columns]"
      ]
     },
     "execution_count": 28,
     "metadata": {},
     "output_type": "execute_result"
    }
   ],
   "source": [
    "amount_monthly_order=data.groupby(['YearMonth'])['Amount_Gross_Order'].sum().reset_index()\n",
    "amount_monthly_order"
   ]
  },
  {
   "cell_type": "code",
   "execution_count": 29,
   "metadata": {},
   "outputs": [
    {
     "data": {
      "image/png": "[encoded data removed]",
      "text/plain": [
       "<Figure size 1080x360 with 1 Axes>"
      ]
     },
     "metadata": {
      "needs_background": "light"
     },
     "output_type": "display_data"
    }
   ],
   "source": [
    "\n",
    "fig,ax=plt.subplots()\n",
    "fig.set_size_inches(15,5)\n",
    "ax.plot(amount_monthly_order['YearMonth'].to_numpy(dtype=str),amount_monthly_order['Amount_Gross_Order'],marker='o')\n",
    "ax.xaxis.set_ticks(np.arange(1,70,5))\n",
    "plt.setp(plt.gca().get_xticklabels(),rotation=45,ha='right')\n",
    "ax.set_xlabel('Year_Month')\n",
    "ax.set_ylabel('Order_Amount')\n",
    "ax.set_title('Monthly Order Amount')\n",
    "plt.grid()\n",
    "plt.show()\n"
   ]
  },
  {
   "cell_type": "code",
   "execution_count": 30,
   "metadata": {},
   "outputs": [
    {
     "data": {
      "text/html": [
       "<div>\n",
       "<style scoped>\n",
       "    .dataframe tbody tr th:only-of-type {\n",
       "        vertical-align: middle;\n",
       "    }\n",
       "\n",
       "    .dataframe tbody tr th {\n",
       "        vertical-align: top;\n",
       "    }\n",
       "\n",
       "    .dataframe thead th {\n",
       "        text-align: right;\n",
       "    }\n",
       "</style>\n",
       "<table border=\"1\" class=\"dataframe\">\n",
       "  <thead>\n",
       "    <tr style=\"text-align: right;\">\n",
       "      <th></th>\n",
       "      <th>city_name_fa</th>\n",
       "      <th>ID_Customer</th>\n",
       "    </tr>\n",
       "  </thead>\n",
       "  <tbody>\n",
       "    <tr>\n",
       "      <th>0</th>\n",
       "      <td>آب بر</td>\n",
       "      <td>14</td>\n",
       "    </tr>\n",
       "    <tr>\n",
       "      <th>1</th>\n",
       "      <td>آبادان</td>\n",
       "      <td>320</td>\n",
       "    </tr>\n",
       "    <tr>\n",
       "      <th>2</th>\n",
       "      <td>آباده</td>\n",
       "      <td>48</td>\n",
       "    </tr>\n",
       "    <tr>\n",
       "      <th>3</th>\n",
       "      <td>آباده طشک</td>\n",
       "      <td>3</td>\n",
       "    </tr>\n",
       "    <tr>\n",
       "      <th>4</th>\n",
       "      <td>آبدان</td>\n",
       "      <td>2</td>\n",
       "    </tr>\n",
       "    <tr>\n",
       "      <th>...</th>\n",
       "      <td>...</td>\n",
       "      <td>...</td>\n",
       "    </tr>\n",
       "    <tr>\n",
       "      <th>901</th>\n",
       "      <td>گیوی</td>\n",
       "      <td>10</td>\n",
       "    </tr>\n",
       "    <tr>\n",
       "      <th>902</th>\n",
       "      <td>یاسوج</td>\n",
       "      <td>229</td>\n",
       "    </tr>\n",
       "    <tr>\n",
       "      <th>903</th>\n",
       "      <td>یاسوکند</td>\n",
       "      <td>1</td>\n",
       "    </tr>\n",
       "    <tr>\n",
       "      <th>904</th>\n",
       "      <td>یامچی</td>\n",
       "      <td>1</td>\n",
       "    </tr>\n",
       "    <tr>\n",
       "      <th>905</th>\n",
       "      <td>یزد</td>\n",
       "      <td>1626</td>\n",
       "    </tr>\n",
       "  </tbody>\n",
       "</table>\n",
       "<p>906 rows × 2 columns</p>\n",
       "</div>"
      ],
      "text/plain": [
       "    city_name_fa  ID_Customer\n",
       "0          آب بر           14\n",
       "1         آبادان          320\n",
       "2          آباده           48\n",
       "3      آباده طشک            3\n",
       "4          آبدان            2\n",
       "..           ...          ...\n",
       "901         گیوی           10\n",
       "902        یاسوج          229\n",
       "903      یاسوکند            1\n",
       "904        یامچی            1\n",
       "905          یزد         1626\n",
       "\n",
       "[906 rows x 2 columns]"
      ]
     },
     "execution_count": 30,
     "metadata": {},
     "output_type": "execute_result"
    }
   ],
   "source": [
    "#تعداد مشتزی های هر شهر\n",
    "customer_per_city=data.groupby('city_name_fa')['ID_Customer'].nunique().reset_index()\n",
    "customer_per_city"
   ]
  },
  {
   "cell_type": "code",
   "execution_count": 31,
   "metadata": {},
   "outputs": [
    {
     "data": {
      "text/plain": [
       "153709"
      ]
     },
     "execution_count": 31,
     "metadata": {},
     "output_type": "execute_result"
    }
   ],
   "source": [
    "#مجموع مشتری های تمام شهرها\n",
    "count_customers=customer_per_city['ID_Customer'].sum()\n",
    "#count_customers=np.array(count_customers)\n",
    "count_customers=pd.to_numeric(count_customers)\n",
    "count_customers\n"
   ]
  },
  {
   "cell_type": "code",
   "execution_count": 32,
   "metadata": {},
   "outputs": [],
   "source": [
    "tehran=customer_per_city.loc[(customer_per_city['city_name_fa']=='تهران')]\n",
    "mashhad=customer_per_city.loc[(customer_per_city['city_name_fa']=='مشهد')]\n",
    "esfahan=customer_per_city.loc[(customer_per_city['city_name_fa']=='اصفهان')]\n",
    "karaj=customer_per_city.loc[(customer_per_city['city_name_fa']=='کرج')]\n",
    "ahvaz=customer_per_city.loc[(customer_per_city['city_name_fa']=='اهواز')]\n",
    "shiraz=customer_per_city.loc[(customer_per_city['city_name_fa']=='شیراز')]\n",
    "rasht=customer_per_city.loc[(customer_per_city['city_name_fa']=='رشت')]\n",
    "tabriz=customer_per_city.loc[(customer_per_city['city_name_fa']=='تبریز')]\n"
   ]
  },
  {
   "cell_type": "code",
   "execution_count": 33,
   "metadata": {},
   "outputs": [
    {
     "data": {
      "text/plain": [
       "array([81048], dtype=int64)"
      ]
     },
     "execution_count": 33,
     "metadata": {},
     "output_type": "execute_result"
    }
   ],
   "source": [
    "\n",
    "teh=tehran['ID_Customer'].to_numpy()\n",
    "mash=mashhad['ID_Customer'].to_numpy()\n",
    "es=esfahan['ID_Customer'].to_numpy()\n",
    "ka=karaj['ID_Customer'].to_numpy()\n",
    "ah=ahvaz['ID_Customer'].to_numpy()\n",
    "sh=shiraz['ID_Customer'].to_numpy()\n",
    "ra=rasht['ID_Customer'].to_numpy()\n",
    "tab=tabriz['ID_Customer'].to_numpy()\n",
    "\n",
    "teh"
   ]
  },
  {
   "cell_type": "code",
   "execution_count": 34,
   "metadata": {},
   "outputs": [],
   "source": [
    "teh=pd.to_numeric(tehran['ID_Customer'])\n",
    "mash=pd.to_numeric(mashhad['ID_Customer'])\n",
    "es=pd.to_numeric(esfahan['ID_Customer'])\n",
    "ka=pd.to_numeric(karaj['ID_Customer'])\n",
    "ah=pd.to_numeric(ahvaz['ID_Customer'])\n",
    "sh=pd.to_numeric(shiraz['ID_Customer'])\n",
    "ra=pd.to_numeric(rasht['ID_Customer'])\n",
    "tab=pd.to_numeric(tabriz['ID_Customer'])\n",
    "\n"
   ]
  },
  {
   "cell_type": "code",
   "execution_count": 35,
   "metadata": {},
   "outputs": [],
   "source": [
    "teh=int(teh)\n",
    "mash=int(mash)\n",
    "es=int(es)\n",
    "ka=int(ka)\n",
    "ah=int(ah)\n",
    "sh=int(sh)\n",
    "ra=int(ra)\n",
    "tab=int(tab)"
   ]
  },
  {
   "cell_type": "code",
   "execution_count": 36,
   "metadata": {},
   "outputs": [
    {
     "data": {
      "text/plain": [
       "47647"
      ]
     },
     "execution_count": 36,
     "metadata": {},
     "output_type": "execute_result"
    }
   ],
   "source": [
    "#مجموع مشتری های شهرهای دیگر \n",
    "count_other_customer=count_customers-(teh+mash+es+ka+ah+sh+ra+tab)\n",
    "coc=int(count_other_customer)\n",
    "coc\n"
   ]
  },
  {
   "cell_type": "code",
   "execution_count": 37,
   "metadata": {},
   "outputs": [],
   "source": [
    "def func(pct):\n",
    "  return \"{:1.1f}%\".format(pct)\n"
   ]
  },
  {
   "cell_type": "code",
   "execution_count": 40,
   "metadata": {},
   "outputs": [
    {
     "data": {
      "image/png": "[encoded data removed]",
      "text/plain": [
       "<Figure size 864x864 with 1 Axes>"
      ]
     },
     "metadata": {},
     "output_type": "display_data"
    }
   ],
   "source": [
    "count=np.array([teh,mash,es,ka,ah,sh,ra,tab,coc])\n",
    "count=count.flatten()\n",
    "lbl=['تهران','مشهد','اصفهان','کرج','اهواز','شیراز','رشت ','تبریز','سایر شهرها']\n",
    "persian_lbl=[get_display(reshape(label)) for label in lbl]\n",
    "count.flatten\n",
    "count.shape\n",
    "plt.figure(figsize=(12,12))\n",
    "plt.pie(count,labels=persian_lbl,autopct=lambda pct: func(pct),textprops={'fontsize':10,'fontname':'b-nazanin'})\n",
    "#plt.legend()\n",
    "plt.show()\n"
   ]
  }
 ],
 "metadata": {
  "interpreter": {
   "hash": "965ba1120b0c101b3f715b6e258a73742ec1cf86f2c8b04492724c87d9f112c3"
  },
  "kernelspec": {
   "display_name": "Python 3.8.9 64-bit",
   "language": "python",
   "name": "python3"
  },
  "language_info": {
   "codemirror_mode": {
    "name": "ipython",
    "version": 3
   },
   "file_extension": ".py",
   "mimetype": "text/x-python",
   "name": "python",
   "nbconvert_exporter": "python",
   "pygments_lexer": "ipython3",
   "version": "3.8.9"
  },
  "orig_nbformat": 4
 },
 "nbformat": 4,
 "nbformat_minor": 2
}
